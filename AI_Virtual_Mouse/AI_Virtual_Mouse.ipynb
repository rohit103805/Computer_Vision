{
 "cells": [
  {
   "cell_type": "code",
   "execution_count": 1,
   "metadata": {},
   "outputs": [],
   "source": [
    "import cv2\n",
    "import mediapipe as mp\n",
    "import pyautogui as pg"
   ]
  },
  {
   "cell_type": "code",
   "execution_count": 2,
   "metadata": {},
   "outputs": [],
   "source": [
    "mpHands = mp.solutions.hands\n",
    "hands = mpHands.Hands(max_num_hands=1)\n",
    "mpDraw = mp.solutions.drawing_utils"
   ]
  },
  {
   "cell_type": "code",
   "execution_count": 3,
   "metadata": {},
   "outputs": [],
   "source": [
    "cr_x, cr_y = 0, 0\n",
    "pr_x, pr_y = 0, 0"
   ]
  },
  {
   "cell_type": "code",
   "execution_count": 4,
   "metadata": {},
   "outputs": [],
   "source": [
    "def cal_distance(Pts):\n",
    "    distance = pow(Pts[2]-Pts[0], 2) + pow(Pts[3]-Pts[1], 2)\n",
    "    return distance"
   ]
  },
  {
   "cell_type": "code",
   "execution_count": 5,
   "metadata": {},
   "outputs": [],
   "source": [
    "camera = cv2.VideoCapture(0)\n",
    "camera.set(3, 1280)\n",
    "camera.set(4, 720)\n",
    "while True :\n",
    "    check, image = camera.read()\n",
    "    img_RGB = cv2.cvtColor(image, cv2.COLOR_BGR2RGB)\n",
    "    results = hands.process(img_RGB)\n",
    "    if results.multi_hand_landmarks:\n",
    "        for hand in results.multi_hand_landmarks:\n",
    "            Pts = []\n",
    "            for id, lms in enumerate(hand.landmark):\n",
    "                h, w, c = image.shape\n",
    "                cx, cy = int(lms.x*w), int(lms.y*h)\n",
    "                if (id==12):\n",
    "                    Pts.append(cx)\n",
    "                    Pts.append(cy)\n",
    "                    dist = cal_distance(Pts)\n",
    "                    if (dist < 1200):\n",
    "                        pg.click(1366 - cr_x, cr_y)\n",
    "                if (id==8):\n",
    "                    Pts.append(cx)\n",
    "                    Pts.append(cy)\n",
    "                    cr_x = pr_x + (cx - pr_x) / 2\n",
    "                    cr_y = pr_y +  (cy - pr_y) / 2\n",
    "                    if (cr_x < 683):\n",
    "                        cr_x = cr_x - 0.292*(683 - cr_x)\n",
    "                        if(cr_x < 0):\n",
    "                            cr_x = 4\n",
    "                    elif (cr_x > 683):\n",
    "                        cr_x = cr_x + 0.292*(cr_x - 683)\n",
    "                        if(cr_x > 1366):\n",
    "                            cr_x = 1355\n",
    "                    if (cr_y < 384):\n",
    "                        cr_y = cr_y - 0.52*(384 - cr_y)\n",
    "                        if(cr_y < 0):\n",
    "                            cr_y = 4\n",
    "                    elif (cr_y > 384):\n",
    "                        cr_y = cr_y + 0.52*(cr_y - 384)\n",
    "                        if(cr_y > 768):\n",
    "                            cr_y =755           \n",
    "                    pg.moveTo(1366 - cr_x, cr_y, duration=0.1)         \n",
    "            mpDraw.draw_landmarks(image, hand, mpHands.HAND_CONNECTIONS)\n",
    "            pr_x, pr_y = cr_x, cr_y\n",
    "    cv2.imshow(\"Hands\", image)\n",
    "    if cv2.waitKey(1) & 0xFF==ord('q'):\n",
    "        break\n",
    "camera.release()\n",
    "cv2.destroyAllWindows()"
   ]
  }
 ],
 "metadata": {
  "interpreter": {
   "hash": "dc106fe3c02396f33534c61e51628a7be9a935337a06f05fddd82b0e8d71430d"
  },
  "kernelspec": {
   "display_name": "Python 3.8.8 64-bit",
   "name": "python3"
  },
  "language_info": {
   "codemirror_mode": {
    "name": "ipython",
    "version": 3
   },
   "file_extension": ".py",
   "mimetype": "text/x-python",
   "name": "python",
   "nbconvert_exporter": "python",
   "pygments_lexer": "ipython3",
   "version": "3.8.8"
  },
  "orig_nbformat": 4
 },
 "nbformat": 4,
 "nbformat_minor": 2
}
