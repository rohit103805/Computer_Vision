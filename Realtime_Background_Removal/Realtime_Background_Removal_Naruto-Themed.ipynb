{
 "cells": [
  {
   "cell_type": "code",
   "execution_count": 1,
   "metadata": {},
   "outputs": [],
   "source": [
    "import cv2\n",
    "from cvzone.SelfiSegmentationModule import SelfiSegmentation\n",
    "import os"
   ]
  },
  {
   "cell_type": "code",
   "execution_count": 2,
   "metadata": {},
   "outputs": [],
   "source": [
    "BG_List =[]\n",
    "base_folder = r'D:\\ML_Projects_PyTorch\\Realtime_Background_Removal\\Images'\n",
    "for id, file in enumerate(os.listdir(base_folder)):\n",
    "    file_name = os.path.join(base_folder, file)\n",
    "    image_BG = cv2.imread(file_name)\n",
    "    BG_List.append(image_BG)"
   ]
  },
  {
   "cell_type": "code",
   "execution_count": 3,
   "metadata": {},
   "outputs": [],
   "source": [
    "camera = cv2.VideoCapture(0)\n",
    "camera.set(3, 640)\n",
    "camera.set(4, 480)\n",
    "segmentor = SelfiSegmentation()\n",
    "i=0\n",
    "\n",
    "while True:\n",
    "    check, image = camera.read()\n",
    "    BG = BG_List[i]\n",
    "    img_out = segmentor.removeBG(image, BG, threshold=0.5)\n",
    "    if cv2.waitKey(1) & 0xFF==ord('a'):\n",
    "        i = i+1\n",
    "        i = i%4\n",
    "    cv2.imshow(\"Background_Removal\", img_out)\n",
    "    if cv2.waitKey(1) & 0xFF==ord('q'):\n",
    "        break\n",
    "camera.release()\n",
    "cv2.destroyAllWindows()"
   ]
  }
 ],
 "metadata": {
  "interpreter": {
   "hash": "dc106fe3c02396f33534c61e51628a7be9a935337a06f05fddd82b0e8d71430d"
  },
  "kernelspec": {
   "display_name": "Python 3.8.8 64-bit",
   "name": "python3"
  },
  "language_info": {
   "codemirror_mode": {
    "name": "ipython",
    "version": 3
   },
   "file_extension": ".py",
   "mimetype": "text/x-python",
   "name": "python",
   "nbconvert_exporter": "python",
   "pygments_lexer": "ipython3",
   "version": "3.8.8"
  },
  "orig_nbformat": 4
 },
 "nbformat": 4,
 "nbformat_minor": 2
}
