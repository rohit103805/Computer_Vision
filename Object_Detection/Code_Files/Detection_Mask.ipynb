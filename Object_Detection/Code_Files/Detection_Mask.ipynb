{
 "metadata": {
  "language_info": {
   "codemirror_mode": {
    "name": "ipython",
    "version": 3
   },
   "file_extension": ".py",
   "mimetype": "text/x-python",
   "name": "python",
   "nbconvert_exporter": "python",
   "pygments_lexer": "ipython3",
   "version": "3.8.8"
  },
  "orig_nbformat": 4,
  "kernelspec": {
   "name": "python3",
   "display_name": "Python 3.8.8 64-bit"
  },
  "interpreter": {
   "hash": "dc106fe3c02396f33534c61e51628a7be9a935337a06f05fddd82b0e8d71430d"
  }
 },
 "nbformat": 4,
 "nbformat_minor": 2,
 "cells": [
  {
   "cell_type": "code",
   "execution_count": 1,
   "metadata": {},
   "outputs": [],
   "source": [
    "import cv2\n",
    "import keras\n",
    "from PIL import Image\n",
    "from keras.preprocessing import image\n",
    "import numpy as np"
   ]
  },
  {
   "cell_type": "code",
   "execution_count": 2,
   "metadata": {},
   "outputs": [],
   "source": [
    "model=keras.models.load_model('D:/ML_Projects/Object_Detection/Code_Files/model_vgg16_Object_Detection.h5')"
   ]
  },
  {
   "cell_type": "code",
   "execution_count": 3,
   "metadata": {},
   "outputs": [],
   "source": [
    "Face_Cascade=cv2.CascadeClassifier('D:/ML_Projects/Object_Detection/haarcascade_frontalface_default.xml')"
   ]
  },
  {
   "cell_type": "code",
   "execution_count": 4,
   "metadata": {},
   "outputs": [],
   "source": [
    "def predict_class(img):\n",
    "    New_Image=img.resize((224, 224))\n",
    "    pred=image.img_to_array(New_Image)\n",
    "    pred=np.expand_dims(pred, axis=0)\n",
    "    result=model.predict(pred)\n",
    "    result=result.reshape(-1)\n",
    "    max=result[0]\n",
    "    pred=0\n",
    "    for i in range(0, len(result)):\n",
    "        if(result[i]>max):\n",
    "            pred=i\n",
    "            max=result[i]\n",
    "    return pred"
   ]
  },
  {
   "cell_type": "code",
   "execution_count": 5,
   "metadata": {},
   "outputs": [],
   "source": [
    "def detect(grey, original_image):\n",
    "    faces=Face_Cascade.detectMultiScale(grey, 1.3, 5)\n",
    "    for (x, y, w, h) in faces:\n",
    "        sub_colour=original_image[y:y+h, x:x+w]\n",
    "        img=sub_colour\n",
    "        cv2.imwrite('D:/ML_Projects/Object_Detection/Image.jpg', img)\n",
    "        Image_1=Image.open('D:/ML_Projects/Object_Detection/Image.jpg')\n",
    "        pred=predict_class(Image_1)\n",
    "        print(pred)\n",
    "        if(pred==0):\n",
    "            cv2.rectangle(original_image, (x, y), (x+w, y+h), (0, 0, 255), 2)\n",
    "            cv2.putText(original_image, \"Mask\", (x, y+h), cv2.FONT_HERSHEY_SIMPLEX, 1, (255, 0, 0), 2, cv2.LINE_AA)\n",
    "        elif(pred==1):\n",
    "            cv2.rectangle(original_image, (x, y), (x+w, y+h), (0, 255, 0), 2)\n",
    "            cv2.putText(original_image, \"No Mask\", (x, y+h), cv2.FONT_HERSHEY_SIMPLEX, 1, (255, 0, 0), 2, cv2.LINE_AA)\n",
    "    return original_image"
   ]
  },
  {
   "source": [
    "### 1 on the output screen means : No-Mask, 0 means : Wearing Mask"
   ],
   "cell_type": "markdown",
   "metadata": {}
  },
  {
   "cell_type": "code",
   "execution_count": 6,
   "metadata": {},
   "outputs": [
    {
     "output_type": "stream",
     "name": "stdout",
     "text": [
      "1\n",
      "1\n",
      "1\n",
      "1\n",
      "1\n",
      "1\n",
      "1\n",
      "1\n",
      "1\n",
      "1\n",
      "1\n",
      "1\n",
      "1\n",
      "1\n",
      "1\n",
      "1\n",
      "1\n",
      "1\n",
      "1\n",
      "1\n",
      "1\n",
      "1\n",
      "1\n",
      "0\n",
      "0\n",
      "0\n",
      "0\n",
      "0\n",
      "0\n",
      "0\n",
      "0\n",
      "0\n",
      "0\n",
      "0\n",
      "0\n",
      "0\n",
      "0\n",
      "0\n",
      "0\n",
      "0\n",
      "0\n",
      "0\n",
      "0\n",
      "0\n",
      "0\n",
      "0\n",
      "0\n",
      "0\n",
      "0\n",
      "0\n",
      "0\n",
      "0\n",
      "0\n",
      "0\n",
      "0\n",
      "0\n",
      "0\n",
      "0\n",
      "0\n",
      "0\n",
      "0\n",
      "0\n",
      "0\n",
      "0\n",
      "0\n",
      "0\n",
      "0\n",
      "0\n",
      "0\n",
      "0\n",
      "0\n",
      "0\n"
     ]
    }
   ],
   "source": [
    "Video_Capture=cv2.VideoCapture(0)\n",
    "while True:\n",
    "    im, original=Video_Capture.read()\n",
    "    grey=cv2.cvtColor(original, cv2.COLOR_BGR2GRAY)\n",
    "    canvas=detect(grey, original)\n",
    "    cv2.imshow('Video_Display', canvas)\n",
    "    if cv2.waitKey(1) & 0xFF==ord('q'):\n",
    "        break\n",
    "Video_Capture.release()\n",
    "cv2.destroyAllWindows()"
   ]
  }
 ]
}