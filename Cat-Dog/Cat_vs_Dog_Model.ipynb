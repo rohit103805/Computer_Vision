{
  "nbformat": 4,
  "nbformat_minor": 0,
  "metadata": {
    "colab": {
      "name": "Cat vs Dog Dataset.ipynb",
      "provenance": [],
      "collapsed_sections": []
    },
    "kernelspec": {
      "name": "python3",
      "display_name": "Python 3"
    },
    "language_info": {
      "name": "python"
    },
    "accelerator": "GPU"
  },
  "cells": [
    {
      "cell_type": "code",
      "metadata": {
        "colab": {
          "base_uri": "https://localhost:8080/"
        },
        "id": "3A02__3G9yUO",
        "outputId": "9668777a-537d-4df0-9493-ceefd541c539"
      },
      "source": [
        "!nvidia-smi"
      ],
      "execution_count": 1,
      "outputs": [
        {
          "output_type": "stream",
          "text": [
            "Sat Jun 19 12:25:42 2021       \n",
            "+-----------------------------------------------------------------------------+\n",
            "| NVIDIA-SMI 465.27       Driver Version: 460.32.03    CUDA Version: 11.2     |\n",
            "|-------------------------------+----------------------+----------------------+\n",
            "| GPU  Name        Persistence-M| Bus-Id        Disp.A | Volatile Uncorr. ECC |\n",
            "| Fan  Temp  Perf  Pwr:Usage/Cap|         Memory-Usage | GPU-Util  Compute M. |\n",
            "|                               |                      |               MIG M. |\n",
            "|===============================+======================+======================|\n",
            "|   0  Tesla T4            Off  | 00000000:00:04.0 Off |                    0 |\n",
            "| N/A   66C    P8    11W /  70W |      0MiB / 15109MiB |      0%      Default |\n",
            "|                               |                      |                  N/A |\n",
            "+-------------------------------+----------------------+----------------------+\n",
            "                                                                               \n",
            "+-----------------------------------------------------------------------------+\n",
            "| Processes:                                                                  |\n",
            "|  GPU   GI   CI        PID   Type   Process name                  GPU Memory |\n",
            "|        ID   ID                                                   Usage      |\n",
            "|=============================================================================|\n",
            "|  No running processes found                                                 |\n",
            "+-----------------------------------------------------------------------------+\n"
          ],
          "name": "stdout"
        }
      ]
    },
    {
      "cell_type": "markdown",
      "metadata": {
        "id": "o8hiFYO4B25G"
      },
      "source": [
        "# Importing the Libraries"
      ]
    },
    {
      "cell_type": "code",
      "metadata": {
        "id": "52UdU4iY_Cpi"
      },
      "source": [
        "import tensorflow as tf\n",
        "from keras.preprocessing.image import ImageDataGenerator\n",
        "import numpy as np\n",
        "import matplotlib.pyplot as plt"
      ],
      "execution_count": 2,
      "outputs": []
    },
    {
      "cell_type": "code",
      "metadata": {
        "colab": {
          "base_uri": "https://localhost:8080/"
        },
        "id": "UI27fZNt_Vxk",
        "outputId": "bbd8a8cd-1937-472f-99a8-cbdb48940278"
      },
      "source": [
        "from google.colab import drive\n",
        "drive.mount('/content/drive')"
      ],
      "execution_count": 3,
      "outputs": [
        {
          "output_type": "stream",
          "text": [
            "Mounted at /content/drive\n"
          ],
          "name": "stdout"
        }
      ]
    },
    {
      "cell_type": "markdown",
      "metadata": {
        "id": "NWcZnf4aB5Yi"
      },
      "source": [
        "# Importing the Dataset"
      ]
    },
    {
      "cell_type": "code",
      "metadata": {
        "colab": {
          "base_uri": "https://localhost:8080/"
        },
        "id": "8p0ulNTaATgx",
        "outputId": "af85b2a9-e099-4995-bf73-80e3dcd0be0c"
      },
      "source": [
        "Train_Datagen = ImageDataGenerator(rescale= 1/255, shear_range=0.2, zoom_range= 0.2, horizontal_flip= True)\n",
        "Training_set = Train_Datagen.flow_from_directory('/content/drive/MyDrive/Cat vs Dog/train', target_size=(64, 64), batch_size=64, class_mode='categorical')"
      ],
      "execution_count": 4,
      "outputs": [
        {
          "output_type": "stream",
          "text": [
            "Found 8010 images belonging to 2 classes.\n"
          ],
          "name": "stdout"
        }
      ]
    },
    {
      "cell_type": "code",
      "metadata": {
        "colab": {
          "base_uri": "https://localhost:8080/"
        },
        "id": "MCAaKGDCBSVF",
        "outputId": "c73d28a6-2dd4-4f43-ad8e-24ef0f062993"
      },
      "source": [
        "Test_Datagen = ImageDataGenerator(rescale= 1/255)\n",
        "Test_set = Test_Datagen.flow_from_directory('/content/drive/MyDrive/Cat vs Dog/test', target_size=(64, 64), batch_size=64, class_mode='categorical')"
      ],
      "execution_count": 5,
      "outputs": [
        {
          "output_type": "stream",
          "text": [
            "Found 1000 images belonging to 2 classes.\n"
          ],
          "name": "stdout"
        }
      ]
    },
    {
      "cell_type": "markdown",
      "metadata": {
        "id": "jWqHFJ5ECToj"
      },
      "source": [
        "# Building the Model"
      ]
    },
    {
      "cell_type": "code",
      "metadata": {
        "id": "5UOWvy3tDu39"
      },
      "source": [
        "from keras.layers import Conv2D, MaxPool2D, Flatten, Dense, BatchNormalization, Dropout\n",
        "from keras.models import Sequential"
      ],
      "execution_count": 6,
      "outputs": []
    },
    {
      "cell_type": "code",
      "metadata": {
        "id": "WpKAGx0EDl2L"
      },
      "source": [
        "model=Sequential()"
      ],
      "execution_count": 7,
      "outputs": []
    },
    {
      "cell_type": "markdown",
      "metadata": {
        "id": "2XXLucxAEEQL"
      },
      "source": [
        "## Layer - 1"
      ]
    },
    {
      "cell_type": "code",
      "metadata": {
        "id": "tUmTQNLAEGeJ"
      },
      "source": [
        "model.add(Conv2D(filters=64, kernel_size=3, activation='relu', input_shape=[64, 64, 3]))\n",
        "model.add(BatchNormalization())\n",
        "model.add(MaxPool2D(pool_size=(2, 2), strides=2))\n",
        "model.add(Dropout(0.2))"
      ],
      "execution_count": 8,
      "outputs": []
    },
    {
      "cell_type": "markdown",
      "metadata": {
        "id": "TV4vp8eJEtrb"
      },
      "source": [
        "## Layer - 2"
      ]
    },
    {
      "cell_type": "code",
      "metadata": {
        "id": "oknXYqdsEvST"
      },
      "source": [
        "model.add(Conv2D(filters=128, kernel_size=3, activation='relu'))\n",
        "model.add(BatchNormalization())\n",
        "model.add(MaxPool2D(pool_size=(2, 2), strides=2))\n",
        "model.add(Dropout(0.3))"
      ],
      "execution_count": 9,
      "outputs": []
    },
    {
      "cell_type": "markdown",
      "metadata": {
        "id": "kYCPvH2fE5D3"
      },
      "source": [
        "##  Layer -3 "
      ]
    },
    {
      "cell_type": "code",
      "metadata": {
        "id": "LPSIsDOwE7ei"
      },
      "source": [
        "model.add(Conv2D(filters=256, kernel_size=3, activation='relu'))\n",
        "model.add(BatchNormalization())\n",
        "model.add(MaxPool2D(pool_size=(2, 2), strides=2))\n",
        "model.add(Dropout(0.4))"
      ],
      "execution_count": 10,
      "outputs": []
    },
    {
      "cell_type": "markdown",
      "metadata": {
        "id": "xd5wRmiCFCUP"
      },
      "source": [
        "## Flattening"
      ]
    },
    {
      "cell_type": "code",
      "metadata": {
        "id": "qoKtoFHLFEfN"
      },
      "source": [
        "model.add(Flatten())"
      ],
      "execution_count": 11,
      "outputs": []
    },
    {
      "cell_type": "markdown",
      "metadata": {
        "id": "YorLYUkLFL56"
      },
      "source": [
        "## Full - Connection"
      ]
    },
    {
      "cell_type": "code",
      "metadata": {
        "id": "J32nv-FdFRD6"
      },
      "source": [
        "model.add(Dense(units=128, activation='relu'))\n",
        "model.add(BatchNormalization())\n",
        "model.add(Dropout(0.5))"
      ],
      "execution_count": 12,
      "outputs": []
    },
    {
      "cell_type": "code",
      "metadata": {
        "id": "A1kk8BYDFdko"
      },
      "source": [
        "model.add(Dense(units=2, activation='softmax'))"
      ],
      "execution_count": 13,
      "outputs": []
    },
    {
      "cell_type": "markdown",
      "metadata": {
        "id": "3VXln0ArGZOz"
      },
      "source": [
        "## History - Data"
      ]
    },
    {
      "cell_type": "code",
      "metadata": {
        "id": "3l4oDi6ZGYrX"
      },
      "source": [
        "def summarize_diagnostics(history):\n",
        "\t# plot loss\n",
        "\tplt.subplot(211)\n",
        "\tplt.title('Cross Entropy Loss')\n",
        "\tplt.plot(history.history['loss'], color='blue', label='train')\n",
        "\tplt.plot(history.history['val_loss'], color='orange', label='test')\n",
        "\t# plot accuracy\n",
        "\tplt.subplot(212)\n",
        "\tplt.title('Classification Accuracy')\n",
        "\tplt.plot(history.history['accuracy'], color='blue', label='train')\n",
        "\tplt.plot(history.history['val_accuracy'], color='orange', label='test')"
      ],
      "execution_count": 14,
      "outputs": []
    },
    {
      "cell_type": "code",
      "metadata": {
        "colab": {
          "base_uri": "https://localhost:8080/"
        },
        "id": "Bd_IorzbKDA9",
        "outputId": "f9a72bca-f133-457a-d750-b71fb3e91457"
      },
      "source": [
        "model.summary()"
      ],
      "execution_count": 15,
      "outputs": [
        {
          "output_type": "stream",
          "text": [
            "Model: \"sequential\"\n",
            "_________________________________________________________________\n",
            "Layer (type)                 Output Shape              Param #   \n",
            "=================================================================\n",
            "conv2d (Conv2D)              (None, 62, 62, 64)        1792      \n",
            "_________________________________________________________________\n",
            "batch_normalization (BatchNo (None, 62, 62, 64)        256       \n",
            "_________________________________________________________________\n",
            "max_pooling2d (MaxPooling2D) (None, 31, 31, 64)        0         \n",
            "_________________________________________________________________\n",
            "dropout (Dropout)            (None, 31, 31, 64)        0         \n",
            "_________________________________________________________________\n",
            "conv2d_1 (Conv2D)            (None, 29, 29, 128)       73856     \n",
            "_________________________________________________________________\n",
            "batch_normalization_1 (Batch (None, 29, 29, 128)       512       \n",
            "_________________________________________________________________\n",
            "max_pooling2d_1 (MaxPooling2 (None, 14, 14, 128)       0         \n",
            "_________________________________________________________________\n",
            "dropout_1 (Dropout)          (None, 14, 14, 128)       0         \n",
            "_________________________________________________________________\n",
            "conv2d_2 (Conv2D)            (None, 12, 12, 256)       295168    \n",
            "_________________________________________________________________\n",
            "batch_normalization_2 (Batch (None, 12, 12, 256)       1024      \n",
            "_________________________________________________________________\n",
            "max_pooling2d_2 (MaxPooling2 (None, 6, 6, 256)         0         \n",
            "_________________________________________________________________\n",
            "dropout_2 (Dropout)          (None, 6, 6, 256)         0         \n",
            "_________________________________________________________________\n",
            "flatten (Flatten)            (None, 9216)              0         \n",
            "_________________________________________________________________\n",
            "dense (Dense)                (None, 128)               1179776   \n",
            "_________________________________________________________________\n",
            "batch_normalization_3 (Batch (None, 128)               512       \n",
            "_________________________________________________________________\n",
            "dropout_3 (Dropout)          (None, 128)               0         \n",
            "_________________________________________________________________\n",
            "dense_1 (Dense)              (None, 2)                 258       \n",
            "=================================================================\n",
            "Total params: 1,553,154\n",
            "Trainable params: 1,552,002\n",
            "Non-trainable params: 1,152\n",
            "_________________________________________________________________\n"
          ],
          "name": "stdout"
        }
      ]
    },
    {
      "cell_type": "code",
      "metadata": {
        "id": "kKdNP_l-Glo9"
      },
      "source": [
        "model.compile(optimizer='adam', loss='categorical_crossentropy', metrics=['accuracy'])"
      ],
      "execution_count": 16,
      "outputs": []
    },
    {
      "cell_type": "code",
      "metadata": {
        "colab": {
          "base_uri": "https://localhost:8080/"
        },
        "id": "083HHtleKPb8",
        "outputId": "5b36585b-55f6-465b-fee9-d48faa9be4d7"
      },
      "source": [
        "history=model.fit(Training_set, validation_data=Test_set, steps_per_epoch=len(Training_set), validation_steps=len(Test_set), epochs=25)"
      ],
      "execution_count": 17,
      "outputs": [
        {
          "output_type": "stream",
          "text": [
            "Epoch 1/25\n",
            "126/126 [==============================] - 2099s 16s/step - loss: 1.1002 - accuracy: 0.5613 - val_loss: 1.3919 - val_accuracy: 0.5000\n",
            "Epoch 2/25\n",
            "126/126 [==============================] - 36s 289ms/step - loss: 0.7294 - accuracy: 0.6396 - val_loss: 1.4781 - val_accuracy: 0.5000\n",
            "Epoch 3/25\n",
            "126/126 [==============================] - 36s 289ms/step - loss: 0.5875 - accuracy: 0.7000 - val_loss: 1.0008 - val_accuracy: 0.5270\n",
            "Epoch 4/25\n",
            "126/126 [==============================] - 36s 288ms/step - loss: 0.5442 - accuracy: 0.7310 - val_loss: 0.5636 - val_accuracy: 0.6940\n",
            "Epoch 5/25\n",
            "126/126 [==============================] - 37s 291ms/step - loss: 0.5152 - accuracy: 0.7454 - val_loss: 0.6022 - val_accuracy: 0.6920\n",
            "Epoch 6/25\n",
            "126/126 [==============================] - 36s 289ms/step - loss: 0.4978 - accuracy: 0.7568 - val_loss: 0.5929 - val_accuracy: 0.6880\n",
            "Epoch 7/25\n",
            "126/126 [==============================] - 36s 286ms/step - loss: 0.4676 - accuracy: 0.7748 - val_loss: 0.5630 - val_accuracy: 0.7280\n",
            "Epoch 8/25\n",
            "126/126 [==============================] - 36s 285ms/step - loss: 0.4527 - accuracy: 0.7815 - val_loss: 0.4106 - val_accuracy: 0.8110\n",
            "Epoch 9/25\n",
            "126/126 [==============================] - 36s 283ms/step - loss: 0.4282 - accuracy: 0.7988 - val_loss: 0.4785 - val_accuracy: 0.7860\n",
            "Epoch 10/25\n",
            "126/126 [==============================] - 36s 285ms/step - loss: 0.4318 - accuracy: 0.7964 - val_loss: 0.5009 - val_accuracy: 0.7650\n",
            "Epoch 11/25\n",
            "126/126 [==============================] - 36s 286ms/step - loss: 0.4134 - accuracy: 0.8090 - val_loss: 0.4438 - val_accuracy: 0.8040\n",
            "Epoch 12/25\n",
            "126/126 [==============================] - 36s 285ms/step - loss: 0.3981 - accuracy: 0.8180 - val_loss: 0.4667 - val_accuracy: 0.7800\n",
            "Epoch 13/25\n",
            "126/126 [==============================] - 36s 283ms/step - loss: 0.3853 - accuracy: 0.8302 - val_loss: 0.3982 - val_accuracy: 0.8200\n",
            "Epoch 14/25\n",
            "126/126 [==============================] - 36s 285ms/step - loss: 0.3681 - accuracy: 0.8278 - val_loss: 0.6423 - val_accuracy: 0.6870\n",
            "Epoch 15/25\n",
            "126/126 [==============================] - 36s 284ms/step - loss: 0.3532 - accuracy: 0.8397 - val_loss: 0.4262 - val_accuracy: 0.7930\n",
            "Epoch 16/25\n",
            "126/126 [==============================] - 36s 286ms/step - loss: 0.3639 - accuracy: 0.8282 - val_loss: 0.4170 - val_accuracy: 0.8100\n",
            "Epoch 17/25\n",
            "126/126 [==============================] - 36s 283ms/step - loss: 0.3290 - accuracy: 0.8522 - val_loss: 0.3557 - val_accuracy: 0.8410\n",
            "Epoch 18/25\n",
            "126/126 [==============================] - 36s 283ms/step - loss: 0.3297 - accuracy: 0.8573 - val_loss: 0.5737 - val_accuracy: 0.7650\n",
            "Epoch 19/25\n",
            "126/126 [==============================] - 36s 284ms/step - loss: 0.3220 - accuracy: 0.8512 - val_loss: 0.6066 - val_accuracy: 0.7510\n",
            "Epoch 20/25\n",
            "126/126 [==============================] - 36s 285ms/step - loss: 0.3197 - accuracy: 0.8558 - val_loss: 0.4328 - val_accuracy: 0.8090\n",
            "Epoch 21/25\n",
            "126/126 [==============================] - 36s 282ms/step - loss: 0.3005 - accuracy: 0.8684 - val_loss: 0.3425 - val_accuracy: 0.8530\n",
            "Epoch 22/25\n",
            "126/126 [==============================] - 36s 283ms/step - loss: 0.3022 - accuracy: 0.8687 - val_loss: 0.4463 - val_accuracy: 0.8010\n",
            "Epoch 23/25\n",
            "126/126 [==============================] - 36s 284ms/step - loss: 0.3146 - accuracy: 0.8644 - val_loss: 0.6736 - val_accuracy: 0.7510\n",
            "Epoch 24/25\n",
            "126/126 [==============================] - 36s 284ms/step - loss: 0.2916 - accuracy: 0.8663 - val_loss: 0.3972 - val_accuracy: 0.8360\n",
            "Epoch 25/25\n",
            "126/126 [==============================] - 36s 284ms/step - loss: 0.2973 - accuracy: 0.8692 - val_loss: 0.4254 - val_accuracy: 0.8180\n"
          ],
          "name": "stdout"
        }
      ]
    },
    {
      "cell_type": "code",
      "metadata": {
        "id": "iFYudx9HKkNc"
      },
      "source": [
        "from tensorflow.keras.models import load_model\n",
        "model.save('/content/drive/MyDrive/Cat vs Dog/Cat_Dog_Model.h5')"
      ],
      "execution_count": 18,
      "outputs": []
    },
    {
      "cell_type": "code",
      "metadata": {
        "id": "M26OlQC4Kdvg",
        "colab": {
          "base_uri": "https://localhost:8080/",
          "height": 281
        },
        "outputId": "8864edc9-a07a-4c4b-b16f-e4d2b5880d30"
      },
      "source": [
        "summarize_diagnostics(history)"
      ],
      "execution_count": 19,
      "outputs": [
        {
          "output_type": "display_data",
          "data": {
            "image/png": "[encoded data removed]",
            "text/plain": [
              "<Figure size 432x288 with 2 Axes>"
            ]
          },
          "metadata": {
            "tags": [],
            "needs_background": "light"
          }
        }
      ]
    },
    {
      "cell_type": "markdown",
      "metadata": {
        "id": "1Aqp8yDuaq-F"
      },
      "source": [
        "# Predictions"
      ]
    },
    {
      "cell_type": "code",
      "metadata": {
        "colab": {
          "base_uri": "https://localhost:8080/"
        },
        "id": "zX0ihI6Ya8Qp",
        "outputId": "9371910e-2a54-4160-c177-951dbfbf36bf"
      },
      "source": [
        "print(Training_set.class_indices)"
      ],
      "execution_count": 20,
      "outputs": [
        {
          "output_type": "stream",
          "text": [
            "{'cat': 0, 'dog': 1}\n"
          ],
          "name": "stdout"
        }
      ]
    }
  ]
}